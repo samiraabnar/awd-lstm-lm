{
 "cells": [
  {
   "cell_type": "code",
   "execution_count": 3,
   "metadata": {},
   "outputs": [],
   "source": [
    "import argparse\n",
    "import time\n",
    "import math\n",
    "import numpy as np\n",
    "import torch\n",
    "import torch.nn as nn\n",
    "\n",
    "import data\n",
    "import model\n",
    "\n",
    "from utils import batchify, get_batch, repackage_hidden\n",
    "\n",
    "parser = argparse.ArgumentParser(description='PyTorch PennTreeBank RNN/LSTM Language Model')\n",
    "parser.add_argument('--data', type=str, default='data/clean_wiki/',\n",
    "                    help='location of the data corpus')\n",
    "parser.add_argument('--model', type=str, default='LSTM',\n",
    "                    help='type of recurrent net (LSTM, QRNN, GRU)')\n",
    "parser.add_argument('--emsize', type=int, default=400,\n",
    "                    help='size of word embeddings')\n",
    "parser.add_argument('--nhid', type=int, default=1150,\n",
    "                    help='number of hidden units per layer')\n",
    "parser.add_argument('--nlayers', type=int, default=3,\n",
    "                    help='number of layers')\n",
    "parser.add_argument('--lr', type=float, default=30,\n",
    "                    help='initial learning rate')\n",
    "parser.add_argument('--clip', type=float, default=0.25,\n",
    "                    help='gradient clipping')\n",
    "parser.add_argument('--epochs', type=int, default=8000,\n",
    "                    help='upper epoch limit')\n",
    "parser.add_argument('--batch_size', type=int, default=80, metavar='N',\n",
    "                    help='batch size')\n",
    "parser.add_argument('--bptt', type=int, default=70,\n",
    "                    help='sequence length')\n",
    "parser.add_argument('--dropout', type=float, default=0.4,\n",
    "                    help='dropout applied to layers (0 = no dropout)')\n",
    "parser.add_argument('--dropouth', type=float, default=0.3,\n",
    "                    help='dropout for rnn layers (0 = no dropout)')\n",
    "parser.add_argument('--dropouti', type=float, default=0.65,\n",
    "                    help='dropout for input embedding layers (0 = no dropout)')\n",
    "parser.add_argument('--dropoute', type=float, default=0.1,\n",
    "                    help='dropout to remove words from embedding layer (0 = no dropout)')\n",
    "parser.add_argument('--wdrop', type=float, default=0.5,\n",
    "                    help='amount of weight dropout to apply to the RNN hidden to hidden matrix')\n",
    "parser.add_argument('--seed', type=int, default=1111,\n",
    "                    help='random seed')\n",
    "parser.add_argument('--nonmono', type=int, default=5,\n",
    "                    help='random seed')\n",
    "parser.add_argument('--cuda', action='store_false', default=False,\n",
    "                    help='use CUDA')\n",
    "parser.add_argument('--log-interval', type=int, default=200, metavar='N',\n",
    "                    help='report interval')\n",
    "randomhash = ''.join(str(time.time()).split('.'))\n",
    "parser.add_argument('--save', type=str,  default=randomhash+'.pt',\n",
    "                    help='path to save the final model')\n",
    "parser.add_argument('--alpha', type=float, default=2,\n",
    "                    help='alpha L2 regularization on RNN activation (alpha = 0 means no regularization)')\n",
    "parser.add_argument('--beta', type=float, default=1,\n",
    "                    help='beta slowness regularization applied on RNN activiation (beta = 0 means no regularization)')\n",
    "parser.add_argument('--wdecay', type=float, default=1.2e-6,\n",
    "                    help='weight decay applied to all weights')\n",
    "parser.add_argument('--resume', type=str,  default='',\n",
    "                    help='path of model to resume')\n",
    "parser.add_argument('--optimizer', type=str,  default='sgd',\n",
    "                    help='optimizer to use (sgd, adam)')\n",
    "parser.add_argument('--when', nargs=\"+\", type=int, default=[-1],\n",
    "                    help='When (which epochs) to divide the learning rate by 10 - accepts multiple')\n",
    "parser.add_argument('-f')\n",
    "args = parser.parse_args()\n",
    "args.tied = True\n",
    "\n",
    "# Set the random seed manually for reproducibility.\n",
    "np.random.seed(args.seed)\n",
    "torch.manual_seed(args.seed)\n",
    "if torch.cuda.is_available():\n",
    "    if not args.cuda:\n",
    "        print(\"WARNING: You have a CUDA device, so you should probably run with --cuda\")\n",
    "    else:\n",
    "        torch.cuda.manual_seed(args.seed)\n",
    "\n"
   ]
  },
  {
   "cell_type": "code",
   "execution_count": null,
   "metadata": {},
   "outputs": [],
   "source": [
    "class Corpus(object):\n",
    "    def __init__(self, path):\n",
    "        self.dictionary = Dictionary()\n",
    "        self.train = self.tokenize(os.path.join(path, 'train.txt'))\n",
    "        self.valid = self.tokenize(os.path.join(path, 'valid.txt'))\n",
    "        self.test = self.tokenize(os.path.join(path, 'test.txt'))\n",
    "\n",
    "    def tokenize(self, path, keep_sentence_boundaries=True):\n",
    "        \"\"\"Tokenizes a text file.\"\"\"\n",
    "        assert os.path.exists(path)\n",
    "        # Add words to the dictionary\n",
    "        with open(path, 'r') as f:\n",
    "            tokens = 0\n",
    "            for line in f:\n",
    "                words = line.split() + ['<eos>']\n",
    "                tokens += len(words)\n",
    "                for word in words:\n",
    "                    self.dictionary.add_word(word)\n",
    "\n",
    "        # Tokenize file content\n",
    "        with open(path, 'r') as f:\n",
    "            ids = torch.LongTensor(tokens)\n",
    "            token = 0\n",
    "            for line in f:\n",
    "                words = line.split() + ['<eos>']\n",
    "                for word in words:\n",
    "                    ids[token] = self.dictionary.word2idx[word]\n",
    "                    token += 1\n",
    "\n",
    "        return ids"
   ]
  },
  {
   "cell_type": "code",
   "execution_count": null,
   "metadata": {},
   "outputs": [],
   "source": [
    "def batchify(data, bsz, args):\n",
    "    # Work out how cleanly we can divide the dataset into bsz parts.\n",
    "    nbatch = data.size(0) // bsz\n",
    "    # Trim off any extra elements that wouldn't cleanly fit (remainders).\n",
    "    data = data.narrow(0, 0, nbatch * bsz)\n",
    "    # Evenly divide the data across the bsz batches.\n",
    "    data = data.view(bsz, -1).t().contiguous()\n",
    "    if args.cuda:\n",
    "        data = data.cuda()\n",
    "    return data\n",
    "\n",
    "def sentence_based_batchify(data, args):\n",
    "    # Work out how cleanly we can divide the dataset into bsz parts.\n",
    "    nbatch = data.size(0) // bsz\n",
    "    # Trim off any extra elements that wouldn't cleanly fit (remainders).\n",
    "    data = data.narrow(0, 0, nbatch * bsz)\n",
    "    # Evenly divide the data across the bsz batches.\n",
    "    data = data.view(bsz, -1).t().contiguous()\n",
    "    if args.cuda:\n",
    "        data = data.cuda()\n",
    "    return data"
   ]
  },
  {
   "cell_type": "code",
   "execution_count": 4,
   "metadata": {},
   "outputs": [
    {
     "name": "stdout",
     "output_type": "stream",
     "text": [
      "Loading cached dataset...\n"
     ]
    }
   ],
   "source": [
    "###############################################################################\n",
    "# Load data\n",
    "###############################################################################\n",
    "\n",
    "def model_save(fn):\n",
    "    with open(fn, 'wb') as f:\n",
    "        torch.save([model, criterion, optimizer], f)\n",
    "\n",
    "def model_load(fn):\n",
    "    global model, criterion, optimizer\n",
    "    with open(fn, 'rb') as f:\n",
    "        model, criterion, optimizer = torch.load(f)\n",
    "\n",
    "import os\n",
    "import hashlib\n",
    "fn = 'corpus.{}.data'.format(hashlib.md5(args.data.encode()).hexdigest())\n",
    "if os.path.exists(fn):\n",
    "    print('Loading cached dataset...')\n",
    "    corpus = torch.load(fn)\n",
    "else:\n",
    "    print('Producing dataset...')\n",
    "    corpus = data.Corpus(args.data)\n",
    "    torch.save(corpus, fn)\n",
    "\n",
    "eval_batch_size = 10\n",
    "test_batch_size = 1\n",
    "\n",
    "val_data = batchify(corpus.valid, eval_batch_size, args)\n"
   ]
  },
  {
   "cell_type": "code",
   "execution_count": 7,
   "metadata": {},
   "outputs": [
    {
     "data": {
      "text/plain": [
       "torch.Size([218448])"
      ]
     },
     "execution_count": 7,
     "metadata": {},
     "output_type": "execute_result"
    }
   ],
   "source": [
    "corpus.valid.shape"
   ]
  },
  {
   "cell_type": "code",
   "execution_count": null,
   "metadata": {},
   "outputs": [],
   "source": [
    "X = torch.nn.utils.rnn.pack_padded_sequence(x, X_lengths, batch_first=True)"
   ]
  }
 ],
 "metadata": {
  "kernelspec": {
   "display_name": "Python 3",
   "language": "python",
   "name": "python3"
  },
  "language_info": {
   "codemirror_mode": {
    "name": "ipython",
    "version": 3
   },
   "file_extension": ".py",
   "mimetype": "text/x-python",
   "name": "python",
   "nbconvert_exporter": "python",
   "pygments_lexer": "ipython3",
   "version": "3.6.5"
  }
 },
 "nbformat": 4,
 "nbformat_minor": 4
}
